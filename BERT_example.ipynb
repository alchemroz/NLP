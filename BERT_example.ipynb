{
 "cells": [
  {
   "cell_type": "code",
   "execution_count": 1,
   "metadata": {},
   "outputs": [],
   "source": [
    "import numpy as np\n",
    "import pandas as pd\n",
    "import matplotlib.pyplot as plt\n",
    "import seaborn as sns\n",
    "%matplotlib inline\n",
    "sns.set(\n",
    "    palette=sns.color_palette(\"Paired\"),\n",
    "    color_codes=False,\n",
    "    rc={\n",
    "        \"figure.figsize\": (12, 8)\n",
    "    }\n",
    ")\n",
    "from scipy.stats import linregress\n",
    "\n",
    "plt.rcParams['figure.figsize'] = [12, 8]  # Bug; needed to be set twice\n",
    "\n",
    "from sentence_transformers import SentenceTransformer\n",
    "\n",
    "model = SentenceTransformer('bert-base-nli-mean-tokens')"
   ]
  },
  {
   "cell_type": "code",
   "execution_count": 2,
   "metadata": {},
   "outputs": [
    {
     "name": "stderr",
     "output_type": "stream",
     "text": [
      "Using TensorFlow backend.\n"
     ]
    }
   ],
   "source": [
    "from keras.models import Sequential\n",
    "from keras.layers import Dense, Activation"
   ]
  },
  {
   "cell_type": "code",
   "execution_count": 3,
   "metadata": {},
   "outputs": [
    {
     "data": {
      "text/html": [
       "<div>\n",
       "<style scoped>\n",
       "    .dataframe tbody tr th:only-of-type {\n",
       "        vertical-align: middle;\n",
       "    }\n",
       "\n",
       "    .dataframe tbody tr th {\n",
       "        vertical-align: top;\n",
       "    }\n",
       "\n",
       "    .dataframe thead th {\n",
       "        text-align: right;\n",
       "    }\n",
       "</style>\n",
       "<table border=\"1\" class=\"dataframe\">\n",
       "  <thead>\n",
       "    <tr style=\"text-align: right;\">\n",
       "      <th></th>\n",
       "      <th>id</th>\n",
       "      <th>label</th>\n",
       "      <th>tweet</th>\n",
       "    </tr>\n",
       "  </thead>\n",
       "  <tbody>\n",
       "    <tr>\n",
       "      <th>0</th>\n",
       "      <td>1</td>\n",
       "      <td>0</td>\n",
       "      <td>#fingerprint #Pregnancy Test https://goo.gl/h1...</td>\n",
       "    </tr>\n",
       "    <tr>\n",
       "      <th>1</th>\n",
       "      <td>2</td>\n",
       "      <td>0</td>\n",
       "      <td>Finally a transparant silicon case ^^ Thanks t...</td>\n",
       "    </tr>\n",
       "    <tr>\n",
       "      <th>2</th>\n",
       "      <td>3</td>\n",
       "      <td>0</td>\n",
       "      <td>We love this! Would you go? #talk #makememorie...</td>\n",
       "    </tr>\n",
       "    <tr>\n",
       "      <th>3</th>\n",
       "      <td>4</td>\n",
       "      <td>0</td>\n",
       "      <td>I'm wired I know I'm George I was made that wa...</td>\n",
       "    </tr>\n",
       "    <tr>\n",
       "      <th>4</th>\n",
       "      <td>5</td>\n",
       "      <td>1</td>\n",
       "      <td>What amazing service! Apple won't even talk to...</td>\n",
       "    </tr>\n",
       "    <tr>\n",
       "      <th>...</th>\n",
       "      <td>...</td>\n",
       "      <td>...</td>\n",
       "      <td>...</td>\n",
       "    </tr>\n",
       "    <tr>\n",
       "      <th>7915</th>\n",
       "      <td>7916</td>\n",
       "      <td>0</td>\n",
       "      <td>Live out loud #lol #liveoutloud #selfie #smile...</td>\n",
       "    </tr>\n",
       "    <tr>\n",
       "      <th>7916</th>\n",
       "      <td>7917</td>\n",
       "      <td>0</td>\n",
       "      <td>We would like to wish you an amazing day! Make...</td>\n",
       "    </tr>\n",
       "    <tr>\n",
       "      <th>7917</th>\n",
       "      <td>7918</td>\n",
       "      <td>0</td>\n",
       "      <td>Helping my lovely 90 year old neighbor with he...</td>\n",
       "    </tr>\n",
       "    <tr>\n",
       "      <th>7918</th>\n",
       "      <td>7919</td>\n",
       "      <td>0</td>\n",
       "      <td>Finally got my #smart #pocket #wifi stay conne...</td>\n",
       "    </tr>\n",
       "    <tr>\n",
       "      <th>7919</th>\n",
       "      <td>7920</td>\n",
       "      <td>0</td>\n",
       "      <td>Apple Barcelona!!! #Apple #Store #BCN #Barcelo...</td>\n",
       "    </tr>\n",
       "  </tbody>\n",
       "</table>\n",
       "<p>7920 rows × 3 columns</p>\n",
       "</div>"
      ],
      "text/plain": [
       "        id  label                                              tweet\n",
       "0        1      0  #fingerprint #Pregnancy Test https://goo.gl/h1...\n",
       "1        2      0  Finally a transparant silicon case ^^ Thanks t...\n",
       "2        3      0  We love this! Would you go? #talk #makememorie...\n",
       "3        4      0  I'm wired I know I'm George I was made that wa...\n",
       "4        5      1  What amazing service! Apple won't even talk to...\n",
       "...    ...    ...                                                ...\n",
       "7915  7916      0  Live out loud #lol #liveoutloud #selfie #smile...\n",
       "7916  7917      0  We would like to wish you an amazing day! Make...\n",
       "7917  7918      0  Helping my lovely 90 year old neighbor with he...\n",
       "7918  7919      0  Finally got my #smart #pocket #wifi stay conne...\n",
       "7919  7920      0  Apple Barcelona!!! #Apple #Store #BCN #Barcelo...\n",
       "\n",
       "[7920 rows x 3 columns]"
      ]
     },
     "execution_count": 3,
     "metadata": {},
     "output_type": "execute_result"
    }
   ],
   "source": [
    "twitter_train=pd.read_csv('train_2kmZucJ.csv')\n",
    "twitter_train"
   ]
  },
  {
   "cell_type": "code",
   "execution_count": 4,
   "metadata": {},
   "outputs": [
    {
     "data": {
      "text/plain": [
       "array([[-0.20323323,  1.1629684 , -0.23558642, ...,  0.00179879,\n",
       "         0.0439449 ,  0.16331212],\n",
       "       [ 0.22049771,  1.0810663 ,  0.53353345, ...,  0.25489083,\n",
       "         0.38358468,  0.09085761],\n",
       "       [-0.14096376,  0.55092597,  0.8293394 , ...,  0.13509692,\n",
       "        -0.3068057 ,  0.24172863],\n",
       "       ...,\n",
       "       [-0.55700916,  1.4130114 ,  0.22665161, ...,  0.62694734,\n",
       "         0.10634047, -0.12266865],\n",
       "       [-0.2651906 ,  0.34255734,  1.0838131 , ...,  0.03939691,\n",
       "        -0.3335609 , -0.02337172],\n",
       "       [-0.27246368,  0.84458476,  0.27600428, ..., -0.09396114,\n",
       "        -0.46090028, -0.20908943]], dtype=float32)"
      ]
     },
     "execution_count": 4,
     "metadata": {},
     "output_type": "execute_result"
    }
   ],
   "source": [
    "num_frasi=7920\n",
    "\n",
    "frasi=twitter_train['tweet'][0:num_frasi]\n",
    "frasi.values\n",
    "frasi_embeddings = np.array(model.encode(frasi.values))   \n",
    "frasi_embeddings"
   ]
  },
  {
   "cell_type": "code",
   "execution_count": 5,
   "metadata": {},
   "outputs": [
    {
     "data": {
      "text/plain": [
       "(768,)"
      ]
     },
     "execution_count": 5,
     "metadata": {},
     "output_type": "execute_result"
    }
   ],
   "source": [
    "shape_embed=frasi_embeddings[0].shape\n",
    "shape_embed"
   ]
  },
  {
   "cell_type": "code",
   "execution_count": 6,
   "metadata": {},
   "outputs": [
    {
     "data": {
      "text/plain": [
       "array([0, 0, 0, ..., 0, 0, 0])"
      ]
     },
     "execution_count": 6,
     "metadata": {},
     "output_type": "execute_result"
    }
   ],
   "source": [
    "labels=np.array(twitter_train['label'][0:num_frasi])\n",
    "labels"
   ]
  },
  {
   "cell_type": "code",
   "execution_count": 7,
   "metadata": {},
   "outputs": [],
   "source": [
    "model_keras = Sequential([\n",
    "    Dense(512, input_shape=shape_embed),\n",
    "    Activation('relu'),\n",
    "    Dense(128),\n",
    "    Activation('relu'),\n",
    "    Dense(40),\n",
    "    Activation('relu'),\n",
    "    Dense(1),\n",
    "    Activation('softmax'),\n",
    "])"
   ]
  },
  {
   "cell_type": "code",
   "execution_count": 8,
   "metadata": {},
   "outputs": [],
   "source": [
    "model_keras.compile(optimizer='adam',\n",
    "              loss='binary_crossentropy',\n",
    "              metrics=['accuracy'])"
   ]
  },
  {
   "cell_type": "code",
   "execution_count": 9,
   "metadata": {},
   "outputs": [
    {
     "name": "stdout",
     "output_type": "stream",
     "text": [
      "Epoch 1/50\n",
      "7920/7920 [==============================] - 11s 1ms/step - loss: 11.4109 - accuracy: 0.2558\n",
      "Epoch 2/50\n",
      "7920/7920 [==============================] - 9s 1ms/step - loss: 11.4109 - accuracy: 0.2558\n",
      "Epoch 3/50\n",
      "7920/7920 [==============================] - 8s 1ms/step - loss: 11.4109 - accuracy: 0.2558\n",
      "Epoch 4/50\n",
      "7920/7920 [==============================] - 10s 1ms/step - loss: 11.4109 - accuracy: 0.2558\n",
      "Epoch 5/50\n",
      "7920/7920 [==============================] - 9s 1ms/step - loss: 11.4109 - accuracy: 0.2558\n",
      "Epoch 6/50\n",
      "7920/7920 [==============================] - 9s 1ms/step - loss: 11.4109 - accuracy: 0.2558\n",
      "Epoch 7/50\n",
      "7920/7920 [==============================] - 10s 1ms/step - loss: 11.4109 - accuracy: 0.2558\n",
      "Epoch 8/50\n",
      "7920/7920 [==============================] - 9s 1ms/step - loss: 11.4109 - accuracy: 0.2558\n",
      "Epoch 9/50\n",
      "7920/7920 [==============================] - 9s 1ms/step - loss: 11.4109 - accuracy: 0.2558\n",
      "Epoch 10/50\n",
      "7920/7920 [==============================] - 9s 1ms/step - loss: 11.4109 - accuracy: 0.2558\n",
      "Epoch 11/50\n",
      "7920/7920 [==============================] - 9s 1ms/step - loss: 11.4109 - accuracy: 0.2558\n",
      "Epoch 12/50\n",
      "7920/7920 [==============================] - 7s 945us/step - loss: 11.4109 - accuracy: 0.2558\n",
      "Epoch 13/50\n",
      "7920/7920 [==============================] - 8s 950us/step - loss: 11.4109 - accuracy: 0.2558\n",
      "Epoch 14/50\n",
      "7920/7920 [==============================] - 7s 826us/step - loss: 11.4109 - accuracy: 0.2558\n",
      "Epoch 15/50\n",
      "7920/7920 [==============================] - 8s 950us/step - loss: 11.4109 - accuracy: 0.2558\n",
      "Epoch 16/50\n",
      "7920/7920 [==============================] - 8s 1ms/step - loss: 11.4109 - accuracy: 0.2558\n",
      "Epoch 17/50\n",
      "7920/7920 [==============================] - 9s 1ms/step - loss: 11.4109 - accuracy: 0.2558\n",
      "Epoch 18/50\n",
      "7920/7920 [==============================] - 8s 1ms/step - loss: 11.4109 - accuracy: 0.2558\n",
      "Epoch 19/50\n",
      "7920/7920 [==============================] - 8s 1ms/step - loss: 11.4109 - accuracy: 0.2558\n",
      "Epoch 20/50\n",
      "7920/7920 [==============================] - 8s 985us/step - loss: 11.4109 - accuracy: 0.2558\n",
      "Epoch 21/50\n",
      "7920/7920 [==============================] - 8s 1ms/step - loss: 11.4109 - accuracy: 0.2558\n",
      "Epoch 22/50\n",
      "7920/7920 [==============================] - 7s 862us/step - loss: 11.4109 - accuracy: 0.2558\n",
      "Epoch 23/50\n",
      "7920/7920 [==============================] - 9s 1ms/step - loss: 11.4109 - accuracy: 0.2558\n",
      "Epoch 24/50\n",
      "7920/7920 [==============================] - 8s 1ms/step - loss: 11.4109 - accuracy: 0.2558\n",
      "Epoch 25/50\n",
      "7920/7920 [==============================] - 8s 1ms/step - loss: 11.4109 - accuracy: 0.2558\n",
      "Epoch 26/50\n",
      "7920/7920 [==============================] - 8s 964us/step - loss: 11.4109 - accuracy: 0.2558\n",
      "Epoch 27/50\n",
      "7920/7920 [==============================] - 8s 996us/step - loss: 11.4109 - accuracy: 0.2558\n",
      "Epoch 28/50\n",
      "7920/7920 [==============================] - 9s 1ms/step - loss: 11.4109 - accuracy: 0.2558\n",
      "Epoch 29/50\n",
      "7920/7920 [==============================] - 9s 1ms/step - loss: 11.4109 - accuracy: 0.2558\n",
      "Epoch 30/50\n",
      "7920/7920 [==============================] - 9s 1ms/step - loss: 11.4109 - accuracy: 0.2558\n",
      "Epoch 31/50\n",
      "7920/7920 [==============================] - 8s 963us/step - loss: 11.4109 - accuracy: 0.2558\n",
      "Epoch 32/50\n",
      "7920/7920 [==============================] - 8s 1ms/step - loss: 11.4109 - accuracy: 0.2558\n",
      "Epoch 33/50\n",
      "7920/7920 [==============================] - 9s 1ms/step - loss: 11.4109 - accuracy: 0.2558\n",
      "Epoch 34/50\n",
      "7920/7920 [==============================] - 8s 1ms/step - loss: 11.4109 - accuracy: 0.2558\n",
      "Epoch 35/50\n",
      "7920/7920 [==============================] - 8s 1000us/step - loss: 11.4109 - accuracy: 0.2558\n",
      "Epoch 36/50\n",
      "7920/7920 [==============================] - 7s 900us/step - loss: 11.4109 - accuracy: 0.2558\n",
      "Epoch 37/50\n",
      "7920/7920 [==============================] - 7s 893us/step - loss: 11.4109 - accuracy: 0.2558\n",
      "Epoch 38/50\n",
      "7920/7920 [==============================] - 8s 1ms/step - loss: 11.4109 - accuracy: 0.2558\n",
      "Epoch 39/50\n",
      "7920/7920 [==============================] - 8s 978us/step - loss: 11.4109 - accuracy: 0.2558\n",
      "Epoch 40/50\n",
      "7920/7920 [==============================] - 8s 957us/step - loss: 11.4109 - accuracy: 0.2558\n",
      "Epoch 41/50\n",
      "7920/7920 [==============================] - 7s 924us/step - loss: 11.4109 - accuracy: 0.2558\n",
      "Epoch 42/50\n",
      "7920/7920 [==============================] - 8s 996us/step - loss: 11.4109 - accuracy: 0.2558\n",
      "Epoch 43/50\n",
      "7920/7920 [==============================] - 7s 906us/step - loss: 11.4109 - accuracy: 0.2558\n",
      "Epoch 44/50\n",
      "7920/7920 [==============================] - 9s 1ms/step - loss: 11.4109 - accuracy: 0.2558\n",
      "Epoch 45/50\n",
      "7920/7920 [==============================] - 9s 1ms/step - loss: 11.4109 - accuracy: 0.2558\n",
      "Epoch 46/50\n",
      "7920/7920 [==============================] - 7s 894us/step - loss: 11.4109 - accuracy: 0.2558\n",
      "Epoch 47/50\n",
      "7920/7920 [==============================] - 7s 831us/step - loss: 11.4109 - accuracy: 0.2558\n",
      "Epoch 48/50\n",
      "7920/7920 [==============================] - 8s 991us/step - loss: 11.4109 - accuracy: 0.2558\n",
      "Epoch 49/50\n",
      "7920/7920 [==============================] - 8s 1ms/step - loss: 11.4109 - accuracy: 0.2558\n",
      "Epoch 50/50\n",
      "7920/7920 [==============================] - 8s 990us/step - loss: 11.4109 - accuracy: 0.2558\n"
     ]
    },
    {
     "data": {
      "text/plain": [
       "<keras.callbacks.callbacks.History at 0x7fa4483d4c88>"
      ]
     },
     "execution_count": 9,
     "metadata": {},
     "output_type": "execute_result"
    }
   ],
   "source": [
    "model_keras.fit(frasi_embeddings,labels,epochs=50)"
   ]
  },
  {
   "cell_type": "code",
   "execution_count": 10,
   "metadata": {},
   "outputs": [
    {
     "data": {
      "text/plain": [
       "array([[1.]], dtype=float32)"
      ]
     },
     "execution_count": 10,
     "metadata": {},
     "output_type": "execute_result"
    }
   ],
   "source": [
    "frase_test = np.array(model.encode(['I love iphone']))\n",
    "frase_test\n",
    "#frase_test[0]\n",
    "\n",
    "predictions = model_keras.predict(frase_test)\n",
    "predictions"
   ]
  },
  {
   "cell_type": "code",
   "execution_count": 11,
   "metadata": {},
   "outputs": [
    {
     "name": "stdout",
     "output_type": "stream",
     "text": [
      "7920/7920 [==============================] - 2s 241us/step\n"
     ]
    },
    {
     "data": {
      "text/plain": [
       "[11.348359947975236, 0.2558080852031708]"
      ]
     },
     "execution_count": 11,
     "metadata": {},
     "output_type": "execute_result"
    }
   ],
   "source": [
    "evaluates = model_keras.evaluate(frasi_embeddings,labels)\n",
    "evaluates"
   ]
  },
  {
   "cell_type": "code",
   "execution_count": null,
   "metadata": {},
   "outputs": [],
   "source": []
  }
 ],
 "metadata": {
  "kernelspec": {
   "display_name": "Python 3",
   "language": "python",
   "name": "python3"
  },
  "language_info": {
   "codemirror_mode": {
    "name": "ipython",
    "version": 3
   },
   "file_extension": ".py",
   "mimetype": "text/x-python",
   "name": "python",
   "nbconvert_exporter": "python",
   "pygments_lexer": "ipython3",
   "version": "3.6.8"
  }
 },
 "nbformat": 4,
 "nbformat_minor": 4
}
